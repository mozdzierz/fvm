{
 "cells": [
  {
   "cell_type": "markdown",
   "metadata": {},
   "source": [
    "solution of 1D heat conduction and convection equation \n",
    "\n",
    "Marcin Moździerz"
   ]
  },
  {
   "cell_type": "markdown",
   "metadata": {},
   "source": [
    "$$ \\frac{d}{d x} \\left( \\rho \\boldsymbol{v} \\phi \\right) = \\frac{d}{d x} \\left( \\varGamma \\frac{d \\phi}{d x} \\right) + S $$"
   ]
  },
  {
   "cell_type": "code",
   "execution_count": 302,
   "metadata": {},
   "outputs": [],
   "source": [
    "import numpy as np\n",
    "import matplotlib.pyplot as plt"
   ]
  },
  {
   "cell_type": "markdown",
   "metadata": {},
   "source": [
    "input"
   ]
  },
  {
   "cell_type": "code",
   "execution_count": 303,
   "metadata": {},
   "outputs": [],
   "source": [
    "L = 5\n",
    "n_cells_x = 5\n",
    "Gamma = 100 / 1000\n",
    "A = 0.1\n",
    "S = 0\n",
    "rho = 1\n",
    "u = 0.01\n",
    "\n",
    "W_boundary_type = 1  # 1 - Dirichlet, 2 - Neumann\n",
    "E_boundary_type = 1  # 1 - Dirichlet, 2 - Neumann\n",
    "phi_W = 100\n",
    "phi_E = 200\n",
    "dphi_dx_W = 100\n",
    "dphi_dx_E = 100\n",
    "\n",
    "plot = 'true'"
   ]
  },
  {
   "cell_type": "markdown",
   "metadata": {},
   "source": [
    "mesh generation - the simplest possible structured mesh\n",
    "\n",
    "1. generate equidistant faces by dividing the length of the domain for `n_cells_x + 1` faces\n",
    "2. calculate the location of cell centroids in the middle between two faces\n",
    "3. calculate distances between cell centers\n"
   ]
  },
  {
   "cell_type": "code",
   "execution_count": 304,
   "metadata": {},
   "outputs": [
    {
     "data": {
      "image/png": "[encoded data removed]",
      "text/plain": [
       "<Figure size 640x480 with 1 Axes>"
      ]
     },
     "metadata": {},
     "output_type": "display_data"
    }
   ],
   "source": [
    "x_faces = np.linspace(0, L, n_cells_x + 1)\n",
    "x_centroids = 0.5 * (x_faces[1:] + x_faces[:-1])\n",
    "x_centroids = np.hstack([x_faces[0], x_centroids, x_faces[-1]])  # we're adding two centroids overlapping with the first and last faces to keep the values of boundary conditions and to calculate distances to introduce the boundary conditions later\n",
    "\n",
    "# distances between cell centers\n",
    "delta_x_w = x_centroids[1:-1] - x_centroids[:-2]\n",
    "delta_x_e = x_centroids[2:] - x_centroids[1:-1]\n",
    "\n",
    "# lengths of cells\n",
    "Delta_x = x_faces[1:] - x_faces[:-1]\n",
    "\n",
    "if plot == 'true':\n",
    "    plt.plot(x_faces, np.zeros_like(x_faces), '|')\n",
    "    plt.plot(x_centroids, np.zeros_like(x_centroids), 'o')\n",
    "    plt.show()"
   ]
  },
  {
   "cell_type": "markdown",
   "metadata": {},
   "source": [
    "matrix coefficients - internal cells"
   ]
  },
  {
   "cell_type": "code",
   "execution_count": 305,
   "metadata": {},
   "outputs": [],
   "source": [
    "a_W = Gamma * A / delta_x_w  + rho * u * A * (x_faces[:-1] - x_centroids[0:-2]) / delta_x_w \n",
    "a_E = Gamma * A / delta_x_e - rho * u * A * (x_centroids[2:] - x_faces[1:]) / delta_x_e\n",
    "S_C = S * A * Delta_x\n",
    "S_P = np.zeros_like(S_C)\n",
    "a_P = a_W + a_E + rho * u * A - rho * u * A - S_P"
   ]
  },
  {
   "cell_type": "markdown",
   "metadata": {},
   "source": [
    "matrix coefficients - left / west boundary"
   ]
  },
  {
   "cell_type": "code",
   "execution_count": 306,
   "metadata": {},
   "outputs": [],
   "source": [
    "if W_boundary_type == 1:\n",
    "    S_C[0] += a_W[0] * phi_W\n",
    "    a_W[0] = 0\n",
    "    # a_W[0] is already included in the a_P\n",
    "else:\n",
    "    S_C[0] += dphi_dx_W * A\n",
    "    a_P[0] -= a_W[0]\n",
    "    a_W[0] = 0"
   ]
  },
  {
   "cell_type": "markdown",
   "metadata": {},
   "source": [
    "matrix coefficients - right / east boundary"
   ]
  },
  {
   "cell_type": "code",
   "execution_count": 307,
   "metadata": {},
   "outputs": [],
   "source": [
    "if E_boundary_type == 1:\n",
    "    S_C[-1] += a_E[-1] * phi_E\n",
    "    a_E[-1] = 0\n",
    "    # a_E[-1] is already included in the a_P\n",
    "else:\n",
    "    S_C[-1] += dphi_dx_E * A\n",
    "    a_P[-1] -= a_E[-1]\n",
    "    a_E[-1] = 0"
   ]
  },
  {
   "cell_type": "markdown",
   "metadata": {},
   "source": [
    "assembling matrices"
   ]
  },
  {
   "cell_type": "code",
   "execution_count": 308,
   "metadata": {},
   "outputs": [
    {
     "name": "stdout",
     "output_type": "stream",
     "text": [
      "[[ 0.0295 -0.0095  0.      0.      0.    ]\n",
      " [-0.0105  0.02   -0.0095  0.      0.    ]\n",
      " [ 0.     -0.0105  0.02   -0.0095  0.    ]\n",
      " [ 0.      0.     -0.0105  0.02   -0.0095]\n",
      " [ 0.      0.      0.     -0.0105  0.0305]] [2. 0. 0. 0. 4.]\n"
     ]
    }
   ],
   "source": [
    "A = np.zeros([n_cells_x, n_cells_x])\n",
    "b = np.zeros(n_cells_x)\n",
    "\n",
    "for i in range(n_cells_x):\n",
    "    if i == 0:  # left / west boundary\n",
    "        A[i, i] = a_P[i]\n",
    "        A[i, i + 1] = -a_E[i]\n",
    "    elif i == n_cells_x - 1:\n",
    "        A[i, i] = a_P[i]\n",
    "        A[i, i - 1] = -a_W[i]\n",
    "    else:\n",
    "        A[i, i] = a_P[i]\n",
    "        A[i, i - 1] = -a_W[i]\n",
    "        A[i, i + 1] = -a_E[i]\n",
    "        \n",
    "b = S_C\n",
    "\n",
    "print(A, b)"
   ]
  },
  {
   "cell_type": "markdown",
   "metadata": {},
   "source": [
    "solution\n",
    "\n",
    "here the [procedure for linear systems solution from the numpy library](https://numpy.org/devdocs/reference/generated/numpy.linalg.solve.html) is used"
   ]
  },
  {
   "cell_type": "code",
   "execution_count": 309,
   "metadata": {},
   "outputs": [
    {
     "data": {
      "image/png": "[encoded data removed]",
      "text/plain": [
       "<Figure size 640x480 with 1 Axes>"
      ]
     },
     "metadata": {},
     "output_type": "display_data"
    },
    {
     "data": {
      "text/plain": [
       "array([100.        , 108.10452972, 125.16669755, 144.02488305,\n",
       "       164.86814071, 187.90542549, 200.        ])"
      ]
     },
     "execution_count": 309,
     "metadata": {},
     "output_type": "execute_result"
    }
   ],
   "source": [
    "phi = np.linalg.solve(A, b)\n",
    "\n",
    "if W_boundary_type == 1:\n",
    "    phi = np.hstack([phi_W, phi])\n",
    "else:\n",
    "    pass\n",
    "\n",
    "if E_boundary_type == 1:\n",
    "    phi = np.hstack([phi, phi_E])\n",
    "\n",
    "if plot == 'true':\n",
    "    plt.plot(x_centroids, phi)\n",
    "    plt.show()\n",
    "\n",
    "phi"
   ]
  }
 ],
 "metadata": {
  "kernelspec": {
   "display_name": "sci",
   "language": "python",
   "name": "python3"
  },
  "language_info": {
   "codemirror_mode": {
    "name": "ipython",
    "version": 3
   },
   "file_extension": ".py",
   "mimetype": "text/x-python",
   "name": "python",
   "nbconvert_exporter": "python",
   "pygments_lexer": "ipython3",
   "version": "3.11.4"
  }
 },
 "nbformat": 4,
 "nbformat_minor": 2
}
